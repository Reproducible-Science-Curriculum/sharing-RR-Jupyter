{
 "cells": [
  {
   "cell_type": "markdown",
   "metadata": {},
   "source": [
    "# Data Carpentry Reproducible Research Workshop - Introduction to Binder\n",
    "\n",
    "**Authors: Naupaka Zimmerman, Chris Holdgraf, M Pacer**\n",
    "\n",
    "## Things You'll Need to Complete This Tutorial\n",
    "This lesson requires access to the internet and the ability to create a GitHub account.\n",
    "\n",
    "## Overview\n",
    "* Teaching: 20 min\n",
    "* Exercises: 20 min\n",
    "\n",
    "## Questions\n",
    "* How can I share my work outside of publishing in a traditional journal?\n",
    "\n",
    "## Objectives\n",
    "Create a GitHub account as well as a repository that we can share with others. Populate this repository with a Jupyter Notebook that shows of a simple visualization."
   ]
  },
  {
   "cell_type": "markdown",
   "metadata": {
    "slideshow": {
     "slide_type": "slide"
    }
   },
   "source": [
    "# Sharing using `GitHub`"
   ]
  },
  {
   "cell_type": "markdown",
   "metadata": {
    "slideshow": {
     "slide_type": "subslide"
    }
   },
   "source": [
    "### Sharing Your Research\n",
    "\n"
   ]
  },
  {
   "cell_type": "markdown",
   "metadata": {
    "slideshow": {
     "slide_type": "fragment"
    }
   },
   "source": [
    "* Once you're happy with the final product of an analysis, you'll want to *share* it with others."
   ]
  },
  {
   "cell_type": "markdown",
   "metadata": {
    "slideshow": {
     "slide_type": "fragment"
    }
   },
   "source": [
    "* This lesson will cover how to share the products of your work via GitHub, a website for code repositories."
   ]
  },
  {
   "cell_type": "markdown",
   "metadata": {
    "slideshow": {
     "slide_type": "subslide"
    }
   },
   "source": [
    "## `GitHub`\n",
    "<img src=\"https://assets-cdn.github.com/images/modules/logos_page/GitHub-Mark.png\" style=\"width:200px; float:left\"/>"
   ]
  },
  {
   "cell_type": "markdown",
   "metadata": {},
   "source": [
    "`GitHub` is a development platform where \"you can host and review code, manage projects, and build software.\" GitHub hosts source code for 75+ million projects including the `pandas` package we have been using among many others. "
   ]
  },
  {
   "cell_type": "markdown",
   "metadata": {
    "slideshow": {
     "slide_type": "subslide"
    }
   },
   "source": [
    "While GitHub is used to store codebases for many software projects, it is also a great way to **share your work with others**."
   ]
  },
  {
   "cell_type": "markdown",
   "metadata": {
    "slideshow": {
     "slide_type": "slide"
    }
   },
   "source": [
    "# Setting up a GitHub account\n",
    "Next we'll cover how to sign up for your own GitHub account so that you can put your code online."
   ]
  },
  {
   "cell_type": "markdown",
   "metadata": {
    "slideshow": {
     "slide_type": "slide"
    }
   },
   "source": [
    "### 1. Go to the `GitHub` Homepage"
   ]
  },
  {
   "cell_type": "markdown",
   "metadata": {},
   "source": [
    "To use `GitHub` one needs to register for a (free) account. To register for a `GitHub` account you need to:\n",
    "\n",
    "1. Open a web browser\n",
    "2. Navigate to [github.com](https://github.com)\n",
    "\n",
    "You should see the the web page below.\n",
    "\n",
    "**Note**: If you already have a `GitHub` account you do NOT need to create a new one. Please skip down to step ????."
   ]
  },
  {
   "cell_type": "markdown",
   "metadata": {
    "slideshow": {
     "slide_type": "-"
    }
   },
   "source": [
    "![github-homepage-new-user.png](images/github-homepage-new-user.png)"
   ]
  },
  {
   "cell_type": "markdown",
   "metadata": {
    "slideshow": {
     "slide_type": "subslide"
    }
   },
   "source": [
    "### 2. Create a `GitHub` account "
   ]
  },
  {
   "cell_type": "markdown",
   "metadata": {},
   "source": [
    "- On the GitHub homepage enter:\n",
    "\n",
    "    - a username\n",
    "    - an email address\n",
    "    - a password\n",
    "\n",
    "- Click the gree _Sign up for GitHub_ button.\n",
    "\n",
    "An example is shown below."
   ]
  },
  {
   "cell_type": "markdown",
   "metadata": {},
   "source": [
    "![github-new-user-sign-up.png](images/github-new-user-sign-up.png)"
   ]
  },
  {
   "cell_type": "markdown",
   "metadata": {
    "slideshow": {
     "slide_type": "-"
    }
   },
   "source": [
    "You will be asked to confirm the email address that you used to sign. Please confirm your email address."
   ]
  },
  {
   "cell_type": "markdown",
   "metadata": {
    "slideshow": {
     "slide_type": "subslide"
    }
   },
   "source": [
    "**Select a plan**\n",
    "\n",
    "Choose the plan you would like to use. By default, a personal plan is selected.\n",
    "\n",
    "Click on _Continue_."
   ]
  },
  {
   "cell_type": "markdown",
   "metadata": {},
   "source": [
    "![github-welcome-step-2.png](images/github-welcome-step-2.png)"
   ]
  },
  {
   "cell_type": "markdown",
   "metadata": {
    "slideshow": {
     "slide_type": "subslide"
    }
   },
   "source": [
    "**Complete your signup**\n",
    "\n",
    "Select any options you would like (on none).\n",
    "\n",
    "Click _Submit_ to complete your `Github` account setup."
   ]
  },
  {
   "cell_type": "markdown",
   "metadata": {},
   "source": [
    "![github-welcome-step-3.png](images/github-welcome-step-3.png)"
   ]
  },
  {
   "cell_type": "markdown",
   "metadata": {
    "slideshow": {
     "slide_type": "subslide"
    }
   },
   "source": [
    "### 3. Create a new repository"
   ]
  },
  {
   "cell_type": "markdown",
   "metadata": {
    "slideshow": {
     "slide_type": "subslide"
    }
   },
   "source": [
    "Now that we have a GitHub account, we can create and share our repositories with others."
   ]
  },
  {
   "cell_type": "markdown",
   "metadata": {},
   "source": [
    "- Click on _Start a project_ as shown below."
   ]
  },
  {
   "cell_type": "markdown",
   "metadata": {},
   "source": [
    "![github-dashboard.png](images/github-dashboard.png)"
   ]
  },
  {
   "cell_type": "markdown",
   "metadata": {
    "slideshow": {
     "slide_type": "subslide"
    }
   },
   "source": [
    "To create a new repository:\n",
    "\n",
    "- Add a repository name. We choose to name our repository `sharing-github`.\n",
    "- Personal GitHub accounts require that projects be _public_.\n",
    "- Check the _Initialize this repository with a README_ option.\n",
    "- Click the green _Create repository_ button."
   ]
  },
  {
   "cell_type": "markdown",
   "metadata": {},
   "source": [
    "![github-new-repository-sharing-github.png](images/github-new-repository-sharing-github.png)"
   ]
  },
  {
   "cell_type": "markdown",
   "metadata": {
    "slideshow": {
     "slide_type": "subslide"
    }
   },
   "source": [
    "After creating the new repository, you will be taken to the project homepage (shown below)."
   ]
  },
  {
   "cell_type": "markdown",
   "metadata": {},
   "source": [
    "![github-new-repository-homepage.png](images/github-new-repository-homepage.png)"
   ]
  },
  {
   "cell_type": "markdown",
   "metadata": {
    "slideshow": {
     "slide_type": "subslide"
    }
   },
   "source": [
    "If you click on the `GitHub` icon at the top of the page, you will go to your `GitHub` homepage.\n",
    "\n",
    "Your GitHub homepage will now show the new repository under _Your repositories_ (as shown below)."
   ]
  },
  {
   "cell_type": "markdown",
   "metadata": {},
   "source": [
    "![github-new-user-with-repository.png](images/github-new-user-with-repository.png)"
   ]
  },
  {
   "cell_type": "markdown",
   "metadata": {
    "slideshow": {
     "slide_type": "subslide"
    }
   },
   "source": [
    "To learn more about GitHub you can view the GitHub 'Hello World' guide [here](https://guides.github.com/activities/hello-world/)"
   ]
  },
  {
   "cell_type": "markdown",
   "metadata": {
    "slideshow": {
     "slide_type": "subslide"
    }
   },
   "source": [
    "### 4. Create a simple Jupyter notebook"
   ]
  },
  {
   "cell_type": "markdown",
   "metadata": {},
   "source": [
    "Let's keep this notebook simple - just add a single print statement inside."
   ]
  },
  {
   "cell_type": "markdown",
   "metadata": {
    "slideshow": {
     "slide_type": "subslide"
    }
   },
   "source": [
    "### 5. Upload the notebook to the repository"
   ]
  },
  {
   "cell_type": "markdown",
   "metadata": {
    "slideshow": {
     "slide_type": "subslide"
    }
   },
   "source": [
    "To upload the notebook, use the `Upload files` button on your repository's page.\n",
    "\n",
    "*your repository should exist at `github.com/your-username/your-repository`*.\n",
    "\n",
    "<img src=\"images/github_create_new_file.png\" />"
   ]
  },
  {
   "cell_type": "markdown",
   "metadata": {
    "slideshow": {
     "slide_type": "subslide"
    }
   },
   "source": [
    "Find the notebook file that you created and select it to upload. This will make your notebook publicly available on your repository's URL."
   ]
  },
  {
   "cell_type": "markdown",
   "metadata": {
    "slideshow": {
     "slide_type": "subslide"
    }
   },
   "source": [
    "### 6. Create a new Jupyter Notebook"
   ]
  },
  {
   "cell_type": "markdown",
   "metadata": {},
   "source": [
    "This notebook should be a bit more complex. We recommend including a simple plot so that you can see how this is displayed on GitHub."
   ]
  },
  {
   "cell_type": "markdown",
   "metadata": {
    "slideshow": {
     "slide_type": "subslide"
    }
   },
   "source": [
    "Now go through the same upload process that we used above for this notebook."
   ]
  },
  {
   "cell_type": "markdown",
   "metadata": {
    "slideshow": {
     "slide_type": "subslide"
    }
   },
   "source": [
    "### 7. Navigate to your notebook's URL\n",
    "\n",
    "Note that GitHub will automatically render your notebook so that it's displayed in the browser. This can be a great way to quickly show other people what you've been up to!"
   ]
  }
 ],
 "metadata": {
  "celltoolbar": "Slideshow",
  "kernelspec": {
   "display_name": "Python 3",
   "language": "python",
   "name": "python3"
  },
  "language_info": {
   "codemirror_mode": {
    "name": "ipython",
    "version": 3
   },
   "file_extension": ".py",
   "mimetype": "text/x-python",
   "name": "python",
   "nbconvert_exporter": "python",
   "pygments_lexer": "ipython3",
   "version": "3.6.2"
  },
  "livereveal": {
   "scroll": true,
   "start_slideshow_at": "selected"
  }
 },
 "nbformat": 4,
 "nbformat_minor": 2
}
