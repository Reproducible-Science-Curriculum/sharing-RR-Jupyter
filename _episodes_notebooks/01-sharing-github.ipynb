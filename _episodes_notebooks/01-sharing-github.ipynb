{
 "cells": [
  {
   "cell_type": "markdown",
   "metadata": {},
   "source": [
    "# Sharing using GitHub"
   ]
  },
  {
   "cell_type": "markdown",
   "metadata": {},
   "source": [
    "In this lesson we will learn:\n",
    "\n",
    "- How to create a GitHub account and add an initial project repository. A repository is a central location where source code and data is stored and managed\n",
    "- How to add a file to the repository using GitHub's web interface\n",
    "- How to visually confirm that files have been added to the repository and preview files using the GitHub interface\n",
    "- The concepts of creating a public repository for the purpose of sharing your research data"
   ]
  },
  {
   "cell_type": "markdown",
   "metadata": {},
   "source": [
    "## GitHub"
   ]
  },
  {
   "cell_type": "markdown",
   "metadata": {},
   "source": [
    "GitHub is a development platform where we \"can host and review code, manage projects, and build software.\" GitHub hosts source code for 75+ million projects including the `pandas` package we have been using among many others. "
   ]
  },
  {
   "cell_type": "markdown",
   "metadata": {},
   "source": [
    "### 1. Go to the GitHub Homepage"
   ]
  },
  {
   "cell_type": "markdown",
   "metadata": {},
   "source": [
    "To use GitHub one needs to register for a (free) account. To register for a GitHub account we need to:\n",
    "\n",
    "1. Open a web browser\n",
    "2. Navigate to [github.com](https://github.com)\n",
    "\n",
    "We should see the the web page below.\n",
    "\n",
    "**Note**: If you already have a GitHub account you do NOT need to create a new one. Please skip down to step ????."
   ]
  },
  {
   "cell_type": "markdown",
   "metadata": {},
   "source": [
    "![github-homepage-new-user.png](images/github-homepage-new-user.png)"
   ]
  },
  {
   "cell_type": "markdown",
   "metadata": {},
   "source": [
    "### 2. To create a GitHub account "
   ]
  },
  {
   "cell_type": "markdown",
   "metadata": {},
   "source": [
    "- On the GitHub homepage enter:\n",
    "\n",
    "    - a username\n",
    "    - an email address\n",
    "    - a password\n",
    "\n",
    "- Click the gree _Sign up for GitHub_ button.\n",
    "\n",
    "\n",
    "An example is shown in the screenshot below."
   ]
  },
  {
   "cell_type": "markdown",
   "metadata": {},
   "source": [
    "![github-new-user-sign-up.png](images/github-new-user-sign-up.png)"
   ]
  },
  {
   "cell_type": "markdown",
   "metadata": {},
   "source": [
    "We are asked to confirm the email address that we used to sign. Please confirm the email address."
   ]
  },
  {
   "cell_type": "markdown",
   "metadata": {},
   "source": [
    "**Select a plan**\n",
    "\n",
    "We have to choose a plan that we would like to use. We will use the personal (default) plan.\n",
    "\n",
    "Click on _Continue_."
   ]
  },
  {
   "cell_type": "markdown",
   "metadata": {},
   "source": [
    "![github-welcome-step-2.png](images/github-welcome-step-2.png)"
   ]
  },
  {
   "cell_type": "markdown",
   "metadata": {},
   "source": [
    "**Completing our signup**\n",
    "\n",
    "We can select any options we would like (on none).\n",
    "\n",
    "Click _Submit_ to complete our `Github` account setup."
   ]
  },
  {
   "cell_type": "markdown",
   "metadata": {},
   "source": [
    "![github-welcome-step-3.png](images/github-welcome-step-3.png)"
   ]
  },
  {
   "cell_type": "markdown",
   "metadata": {},
   "source": [
    "### 3. Create a new reprository"
   ]
  },
  {
   "cell_type": "markdown",
   "metadata": {},
   "source": [
    "- Click on _Start a project_ as shown below."
   ]
  },
  {
   "cell_type": "markdown",
   "metadata": {},
   "source": [
    "![github-dashboard.png](images/github-dashboard.png)"
   ]
  },
  {
   "cell_type": "markdown",
   "metadata": {},
   "source": [
    "To create a new repository:\n",
    "\n",
    "- Add a repository name. We choose to name our repository `sharing-github`.\n",
    "- Personal GitHub accounts require that projects be _public_.\n",
    "- Check the _Initialize this repository with a README_ option.\n",
    "- Click the green _Create repository_ button."
   ]
  },
  {
   "cell_type": "markdown",
   "metadata": {},
   "source": [
    "![github-new-repository-sharing-github.png](images/github-new-repository-sharing-github.png)"
   ]
  },
  {
   "cell_type": "markdown",
   "metadata": {},
   "source": [
    "After creating the new repository, we will be taken to the project homepage (shown below)."
   ]
  },
  {
   "cell_type": "markdown",
   "metadata": {},
   "source": [
    "![github-new-repository-homepage.png](images/github-new-repository-homepage.png)"
   ]
  },
  {
   "cell_type": "markdown",
   "metadata": {},
   "source": [
    "If we click on the GitHub icon at the top of the page, we will go to our GitHub homepage.\n",
    "\n",
    "Our GitHub homepage will now show the new repository under _Your repositories_ (as shown below)."
   ]
  },
  {
   "cell_type": "markdown",
   "metadata": {},
   "source": [
    "![github-new-user-with-repository.png](images/github-new-user-with-repository.png)"
   ]
  },
  {
   "cell_type": "markdown",
   "metadata": {},
   "source": [
    "**Congratulations!!** We now have a GitHub account and we have created our first repository. "
   ]
  },
  {
   "cell_type": "markdown",
   "metadata": {},
   "source": [
    "---"
   ]
  },
  {
   "cell_type": "markdown",
   "metadata": {},
   "source": [
    "### 4. Uploading an example file (notebook) to the repository"
   ]
  },
  {
   "cell_type": "markdown",
   "metadata": {},
   "source": [
    "We will use GitHub's web interface to upload our files to our new repository. \n",
    "\n",
    "Before we upload one of our existing files, we will first create a new notebook with a \"print('hello world')\" `Python` statement in a single cell. \n",
    "\n",
    "\n",
    "#### 4.1 Create a new sample notebook\n",
    "\n",
    "To acomplish this, please follow the step below:\n",
    "- At the Jupyter dashboard, click on _New_ button and select a `Python 3` notebook.\n",
    "- In the first cell of the notebok, type the `Python` atatement:\n",
    "\n",
    "        print('hello world')\n",
    "\n",
    "- Run the cell to confim that the `Python` statemnt does not have any bugs.\n",
    "- Save the notebook as \"hello_world_binder.ipynb\""
   ]
  },
  {
   "cell_type": "markdown",
   "metadata": {},
   "source": [
    "#### 4.2 Upload the new sample notebook to our GitHub repository"
   ]
  },
  {
   "cell_type": "markdown",
   "metadata": {},
   "source": [
    "To add our new sample notebook to our GitHub repository, we will return to our repository's homepage at <https://github.com>.\n",
    "\n",
    "To upload our file:\n",
    "- Go to [GitHub](https://github.com) in our browser. We can click the link to the left.\n",
    "- Click on the `sharing-github` repository\n",
    "- Click on the _Upload file_ button\n",
    "- Drag and drop the sample notebook or click the _choose your files_ link to select the sample notebook.\n",
    "    - We will see any files that we have uploaded at the bottom of the drag and drop area.\n",
    "- Add a message describing the change we are about to make.\n",
    "    - Type \"Added sample notebook\" in the subject field. \n",
    "    - We can either add the same message below in the extended dwscription or leave it blank.\n",
    "- Click on _Commit changes_ button to complete the uplaod.\n",
    "\n",
    "After commiting the change we should see that there are now two files in the repository: 1) the README and 2) the new sample notebook (as seen in the screenshot below).\n",
    "\n",
    "![github-new-file-added.png](images/github-new-file-added.png)"
   ]
  },
  {
   "cell_type": "markdown",
   "metadata": {},
   "source": [
    "We can actually preview the notebook by clicking on it (shown below)\n",
    "\n",
    "![github-sharing-notebook-preview.png](images/github-sharing-notebook-preview.png)"
   ]
  },
  {
   "cell_type": "markdown",
   "metadata": {},
   "source": [
    "### 5. Upload our previous working notebook to the repository"
   ]
  },
  {
   "cell_type": "markdown",
   "metadata": {},
   "source": [
    "In anticipation of our next lesson on sharing using the capability of [Binder](https://mybinder.org), we need to upload the notebook that we have bene working on. To do this we will repeat many of the steps above.\n",
    "\n",
    "To upload our file:\n",
    "- Return to `sharing-github` repository on GitHub\n",
    "- Click on the _Upload file_ button\n",
    "- Drag and drop the data analysis notebook completed in the previous lesson or click the _choose your files_ link to select the notebook.\n",
    "    - We will see any files that WE have uploaded at the bottom of the drag and drop area.\n",
    "- Add a message describing the change we are about to make.\n",
    "    - Typing \"Added data analysis notebook\" in the subject field. \n",
    "    - We can either add the same message below in the extended dwscription or leave it blank.\n",
    "- Click on _Commit changes_ button to complete the uplaod.\n",
    "\n",
    "After commiting the change we should see that there are now three files in the repository: 1) the README and 2) the sample notebook and 3) our new data analysis notebook."
   ]
  },
  {
   "cell_type": "markdown",
   "metadata": {},
   "source": [
    "---"
   ]
  },
  {
   "cell_type": "markdown",
   "metadata": {},
   "source": [
    "To learn more about GitHub you can review one or more of these additional (external) resouces:\n",
    "- GitHub Guide - [Hello World](https://guides.github.com/activities/hello-world/)\n",
    "- All the [GitHub guides](https://guides.github.com)\n",
    "- Hubspot [`git` and GitHub tutorial](https://product.hubspot.com/blog/git-and-github-tutorial-for-beginners)\n",
    "- Plurlsight's [GitHub beginner's guide](https://www.pluralsight.com/blog/software-development/github-tutorial)\n",
    "- Code School's [GitHub tutorial](https://www.codeschool.com/courses/mastering-github)\n",
    "\n",
    "If you would like to learn about source code version control using the `git` software, the `git` in GitHub, please see these resources:\n",
    "- Try this 15 minute interactive  [`git` tutorial](https://try.github.io/)\n",
    "- Try some additioanl `git` excersizes [here](https://gitexercises.fracz.com)"
   ]
  },
  {
   "cell_type": "code",
   "execution_count": null,
   "metadata": {
    "collapsed": true
   },
   "outputs": [],
   "source": []
  }
 ],
 "metadata": {
  "kernelspec": {
   "display_name": "Python 3",
   "language": "python",
   "name": "python3"
  },
  "language_info": {
   "codemirror_mode": {
    "name": "ipython",
    "version": 3
   },
   "file_extension": ".py",
   "mimetype": "text/x-python",
   "name": "python",
   "nbconvert_exporter": "python",
   "pygments_lexer": "ipython3",
   "version": "3.6.3"
  }
 },
 "nbformat": 4,
 "nbformat_minor": 2
}
